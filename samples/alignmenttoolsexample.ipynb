{
 "cells": [
  {
   "cell_type": "markdown",
   "metadata": {},
   "source": [
    "# Full Alignmenttools example\n",
    "A sample file going over all the step to properly use the tools.\n",
    "\n",
    "The alignment process is aimed at aligning multiple sessions containing both 2D images and 3D geometries. We assume a single session contains locally aligned data. This means that if a small subset of the data is aligned all the rest is also aligned in that coordinate system."
   ]
  },
  {
   "cell_type": "markdown",
   "metadata": {},
   "source": [
    "- **Step 1: Gather the Test Inputs**\n",
    "  - The test session with all the pictures and coordinates as a `SessionNode()`\n",
    "  - The global coordinates of the device\n",
    "- **Step 2: check for relevant Reference data**\n",
    "  - use the global coordinates to find all the reference data that is geo-referenced close enough (GPS precision)\n",
    "- **Step 3: 2D Check**\n",
    "  - Compare all the test images against all the reference images\n",
    "  - Find which session has the highest match rate\n",
    "  - Find which Image has the highest match rate\n",
    "  - Calculate the transformation between the two images\n",
    "  - calculate the inverse transformation to give the test data a Reference global position\n",
    "- **Step 4: 3D Check**\n",
    "  - Compare the test mesh against relevant point clouds\n",
    "  - Compare the test mesh against BIM models\n",
    "  - Perform a CCP for the final alignment\n",
    "- **Step 5: Choosing final Position**\n",
    "  - Use the different results from all the methods to come to a best position\n",
    "  - Send the Position and rotation back to the device"
   ]
  },
  {
   "cell_type": "markdown",
   "metadata": {},
   "source": [
    "## Required classes\n",
    "\n",
    "- `geomapi.nodes.SessionNode()` The starting point, containing the global position, boundingbox and all the resources.\n",
    "- `geomapi.alignmenttools.Match()` The base class for 2 connected resources, containing the match parameters and resources.\n",
    "- `geomapi.alignmenttools.PoseEstimation()` an estimated pose based on a number of matches\n",
    "\n",
    "## Required Functions\n",
    "\n",
    "- `find_close_sessions()` \n",
    "  - Read all rdf files or sessions to get the global position and boundingbox and compare it to the given bounding volume\n",
    "  - we need to get all the graphs or RDF files and read their bounding box variable\n",
    "- `pos2d.get_transformation()`\n",
    "  - Combines all the 2D transdormation algorythms into one function\n",
    "  - \n",
    "- `po3d.get_transformation()`"
   ]
  }
 ],
 "metadata": {
  "kernelspec": {
   "display_name": "Python 3.9.13 ('env': venv)",
   "language": "python",
   "name": "python3"
  },
  "language_info": {
   "name": "python",
   "version": "3.9.13"
  },
  "orig_nbformat": 4,
  "vscode": {
   "interpreter": {
    "hash": "07aaf6cd3af5e8a5897ef4a9778affcf42b060c58f399eaeb60fd2dbd92279df"
   }
  }
 },
 "nbformat": 4,
 "nbformat_minor": 2
}
